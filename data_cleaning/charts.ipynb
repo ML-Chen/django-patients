{
 "cells": [
  {
   "cell_type": "code",
   "execution_count": 41,
   "metadata": {},
   "outputs": [],
   "source": [
    "from itertools import islice\n",
    "import openpyxl\n",
    "from pandas import DataFrame\n",
    "import os\n",
    "import traceback\n",
    "import datetime\n",
    "import matplotlib.pyplot as plt\n",
    "\n",
    "%matplotlib inline"
   ]
  },
  {
   "cell_type": "code",
   "execution_count": 13,
   "metadata": {},
   "outputs": [],
   "source": [
    "# Convert a worksheet with headers to a Pandas dataframe\n",
    "def ws2df(ws: openpyxl.worksheet) -> DataFrame:\n",
    "    data = ws.values\n",
    "    cols = next(data)[1:]\n",
    "    data = list(data)\n",
    "    idx = [r[0] for r in data]\n",
    "    data = (islice(r, 1, None) for r in data)\n",
    "    df = DataFrame(data, index=idx, columns=cols)\n",
    "    return df"
   ]
  },
  {
   "cell_type": "code",
   "execution_count": 14,
   "metadata": {},
   "outputs": [],
   "source": [
    "# Converts a 1-based column number to its letter\n",
    "# Modified from https://stackoverflow.com/a/23862195/5139284\n",
    "def colnum2str(n: int) -> str:\n",
    "    string = \"\"\n",
    "    while n > 0:\n",
    "        n, remainder = divmod(n - 1, 26)\n",
    "        string = chr(65 + remainder) + string\n",
    "    return string"
   ]
  },
  {
   "cell_type": "code",
   "execution_count": 42,
   "metadata": {},
   "outputs": [],
   "source": [
    "def histogram(filename: str, date_col_title: str = 'Exam date'):\n",
    "    print('Creating a histogram for ' + filename + '...')\n",
    "    wb = openpyxl.load_workbook(filename)\n",
    "    sheet = wb.worksheets[0]\n",
    "    col_indices = {cell.value: n + 1 for n, cell in enumerate(list(sheet.rows)[0])}\n",
    "    date_col = colnum2str(col_indices[date_col_title]) # e.g., 'B', 'D'\n",
    "    \n",
    "    dates_replaced: int = 0\n",
    "    \n",
    "    for row in range(2, sheet.max_row + 1):\n",
    "        row = str(row)\n",
    "        try:\n",
    "            if sheet[date_col + row].value >= datetime.datetime(2100, 12, 31):\n",
    "                sheet[date_col + row] = datetime.datetime(2100, 12, 31)\n",
    "                dates_replaced += 1\n",
    "        except AttributeError:\n",
    "            print(f'Row {row} skipped due to an exception:')\n",
    "            traceback.print_exc()\n",
    "            continue\n",
    "    print(dates_replaced, 'dates replaced')\n",
    "    \n",
    "    i = 1\n",
    "    while i <= sheet.max_column:\n",
    "        if sheet[colnum2str(i) + '1'] != date_col_title:\n",
    "            sheet.delete_cols(i)\n",
    "        else:\n",
    "            i += 1\n",
    "            \n",
    "    \n",
    "    df = ws2df(sheet)\n",
    "    df[date_col_title] = df[date_col_title].astype('datetime64')\n",
    "    # https://stackoverflow.com/a/29036738/5139284\n",
    "    df.groupby([df[date_col_title].dt.year, df[date_col_title].dt.month]).count().plot(kind=\"bar\")\n",
    "    plt.savefig(f'{filename}_histogram.png')"
   ]
  },
  {
   "cell_type": "code",
   "execution_count": null,
   "metadata": {},
   "outputs": [
    {
     "name": "stdout",
     "output_type": "stream",
     "text": [
      "\n",
      "Creating a histogram for C:\\Users\\micha\\Google Drive\\Patients 8-16-19\\Checkups.xlsx...\n",
      "97 dates replaced\n"
     ]
    }
   ],
   "source": [
    "histogram(os.path.join(r'C:\\Users\\micha\\Google Drive\\Patients 8-16-19', 'Checkups.xlsx'))"
   ]
  },
  {
   "cell_type": "code",
   "execution_count": null,
   "metadata": {},
   "outputs": [],
   "source": []
  }
 ],
 "metadata": {
  "kernelspec": {
   "display_name": "Python 3",
   "language": "python",
   "name": "python3"
  },
  "language_info": {
   "codemirror_mode": {
    "name": "ipython",
    "version": 3
   },
   "file_extension": ".py",
   "mimetype": "text/x-python",
   "name": "python",
   "nbconvert_exporter": "python",
   "pygments_lexer": "ipython3",
   "version": "3.6.8"
  }
 },
 "nbformat": 4,
 "nbformat_minor": 2
}
